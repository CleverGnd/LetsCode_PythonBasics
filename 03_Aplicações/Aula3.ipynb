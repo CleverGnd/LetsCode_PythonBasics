{
 "cells": [
  {
   "cell_type": "markdown",
   "id": "8d779930",
   "metadata": {},
   "source": [
    "# Aula 01 - Manipulação de Arquivos"
   ]
  },
  {
   "cell_type": "code",
   "execution_count": 2,
   "id": "64ba7a6a",
   "metadata": {},
   "outputs": [
    {
     "name": "stdout",
     "output_type": "stream",
     "text": [
      "Dom Casmurro \n",
      "\n",
      "Texto de referenda: \n",
      "Obras Completas de Machado de Assis, vol. I, \n",
      "Nova Aguilar, Rio de Janeiro, 1994. \n",
      "Publicado originalmente pela Editora Gamier, Rio de Janeiro, 1899. \n",
      "\n",
      "\n",
      "CAPITULO PRIMEIRO \n",
      "DO TITULO \n",
      "\n",
      "Uma noite destas, vindo da cidade para o Engenho Novo, encontrei no trem da \n",
      "Central um rapaz aqui do bairro, que eu conhego de vista e de chapeu. \n",
      "Cumprimentou-me, sentou-se ao pe de mim, falou da Lua e dos ministros, e \n",
      "acabou recitando-me versos. A viagem era curta, e os versos pode ser que nao \n",
      "fossem inteiramente maus. Sucedeu, porem, que, como eu estava cansado, fechei \n",
      "os olhos tres ou quatro vezes; tanto bastou para que ele interrompesse a leitura e \n",
      "metesse os versos no bolso. \n",
      "\n",
      "— Continue, disse eu acordando. \n",
      "\n",
      "— Ja acabei, murmurou ele. \n",
      "\n",
      "— Sao muito bonitos. \n",
      "\n",
      "Vi-lhe fazer um gesto para tira-los outra vez do bolso, mas nao passou do gesto; \n",
      "estava amuado. No dia seguinte entrou a dizer de mim nomes feios, e acabou \n",
      "alcunhando-me Dom Casmurro. Os vizinhos, que nao gostam dos meus habitos \n",
      "reclusos e calados, deram curso a alcunha, que afinal pegou. Nem por isso me \n",
      "zanguei. Contei a anedota aos amigos da cidade, e eles, por graga, chamam-me \n",
      "assim, alguns em bilhetes: \"Dom Casmurro, domingo vou jantar com voce”.— \n",
      "\"Vou para Petropolis, Dom Casmurro; a casa e a mesma da Renania; ve se deixas \n",
      "essa caverna do Engenho Novo, e vai la passar uns quinze dias comigo\".— \"Meu \n",
      "caro Dom Casmurro, nao cuide que o dispenso do teatro amanha; venha e dormira \n",
      "aqui na cidade; dou-lhe camarote, dou-lhe cha, dou-lhe cama; so nao Ihe dou \n",
      "moga”. \n",
      "\n",
      "Nao consultes dicionarios. Casmurro nao esta aqui no sentido que eles Ihe dao, \n",
      "mas no que Ihe pos o vulgo de homem calado e metido consigo. Dom veio por \n",
      "ironia, para atribuir-me fumos de fidalgo. Tudo por estar cochilando! Tambem nao \n",
      "achei melhor titulo para a minha narracao; se nao tiver outro daqui ate ao fim do \n",
      "livro, vai este mesmo. O meu poeta do trem ficara sabendo que nao Ihe guardo \n",
      "rancor. E com pequeno esforco, sendo o titulo seu, podera cuidar que a obra e \n",
      "sua. Ha livros que apenas terao isso dos seus autores; alguns nem tanto. \n",
      "\n"
     ]
    }
   ],
   "source": [
    "arquivo = open('arquivos/dom_casmurro.txt', 'r', encoding='utf-8')\n",
    "texto = arquivo.read()\n",
    "print(texto)\n",
    "arquivo.close()"
   ]
  },
  {
   "cell_type": "code",
   "execution_count": 3,
   "id": "fa6d44c3",
   "metadata": {},
   "outputs": [
    {
     "name": "stdout",
     "output_type": "stream",
     "text": [
      "Dom Casmurro \n",
      "\n",
      "Texto de referenda: \n",
      "Obras Completas de Machado de Assis, vol. I, \n",
      "Nova Aguilar, Rio de Janeiro, 1994. \n",
      "Publicado originalmente pela Editora Gamier, Rio de Janeiro, 1899. \n",
      "\n",
      "\n",
      "CAPITULO PRIMEIRO \n",
      "DO TITULO \n",
      "\n",
      "Uma noite destas, vindo da cidade para o Engenho Novo, encontrei no trem da \n",
      "Central um rapaz aqui do bairro, que eu conhego de vista e de chapeu. \n",
      "Cumprimentou-me, sentou-se ao pe de mim, falou da Lua e dos ministros, e \n",
      "acabou recitando-me versos. A viagem era curta, e os versos pode ser que nao \n",
      "fossem inteiramente maus. Sucedeu, porem, que, como eu estava cansado, fechei \n",
      "os olhos tres ou quatro vezes; tanto bastou para que ele interrompesse a leitura e \n",
      "metesse os versos no bolso. \n",
      "\n",
      "— Continue, disse eu acordando. \n",
      "\n",
      "— Ja acabei, murmurou ele. \n",
      "\n",
      "— Sao muito bonitos. \n",
      "\n",
      "Vi-lhe fazer um gesto para tira-los outra vez do bolso, mas nao passou do gesto; \n",
      "estava amuado. No dia seguinte entrou a dizer de mim nomes feios, e acabou \n",
      "alcunhando-me Dom Casmurro. Os vizinhos, que nao gostam dos meus habitos \n",
      "reclusos e calados, deram curso a alcunha, que afinal pegou. Nem por isso me \n",
      "zanguei. Contei a anedota aos amigos da cidade, e eles, por graga, chamam-me \n",
      "assim, alguns em bilhetes: \"Dom Casmurro, domingo vou jantar com voce”.— \n",
      "\"Vou para Petropolis, Dom Casmurro; a casa e a mesma da Renania; ve se deixas \n",
      "essa caverna do Engenho Novo, e vai la passar uns quinze dias comigo\".— \"Meu \n",
      "caro Dom Casmurro, nao cuide que o dispenso do teatro amanha; venha e dormira \n",
      "aqui na cidade; dou-lhe camarote, dou-lhe cha, dou-lhe cama; so nao Ihe dou \n",
      "moga”. \n",
      "\n",
      "Nao consultes dicionarios. Casmurro nao esta aqui no sentido que eles Ihe dao, \n",
      "mas no que Ihe pos o vulgo de homem calado e metido consigo. Dom veio por \n",
      "ironia, para atribuir-me fumos de fidalgo. Tudo por estar cochilando! Tambem nao \n",
      "achei melhor titulo para a minha narracao; se nao tiver outro daqui ate ao fim do \n",
      "livro, vai este mesmo. O meu poeta do trem ficara sabendo que nao Ihe guardo \n",
      "rancor. E com pequeno esforco, sendo o titulo seu, podera cuidar que a obra e \n",
      "sua. Ha livros que apenas terao isso dos seus autores; alguns nem tanto. \n"
     ]
    }
   ],
   "source": [
    "arquivo = open('arquivos/dom_casmurro.txt', 'r', encoding='utf-8')\n",
    "linha = arquivo.readline()\n",
    "while linha != '':\n",
    "    print(linha, end='')\n",
    "    linha = arquivo.readline()\n",
    "arquivo.close()"
   ]
  },
  {
   "cell_type": "code",
   "execution_count": 5,
   "id": "6e1bc597",
   "metadata": {},
   "outputs": [
    {
     "name": "stdout",
     "output_type": "stream",
     "text": [
      "Dom Casmurro \n",
      "\n",
      "Texto de referenda: \n",
      "Obras Completas de Machado de Assis, vol. I, \n",
      "Nova Aguilar, Rio de Janeiro, 1994. \n",
      "Publicado originalmente pela Editora Gamier, Rio de Janeiro, 1899. \n",
      "\n",
      "\n",
      "CAPITULO PRIMEIRO \n",
      "DO TITULO \n",
      "\n",
      "Uma noite destas, vindo da cidade para o Engenho Novo, encontrei no trem da \n",
      "Central um rapaz aqui do bairro, que eu conhego de vista e de chapeu. \n",
      "Cumprimentou-me, sentou-se ao pe de mim, falou da Lua e dos ministros, e \n",
      "acabou recitando-me versos. A viagem era curta, e os versos pode ser que nao \n",
      "fossem inteiramente maus. Sucedeu, porem, que, como eu estava cansado, fechei \n",
      "os olhos tres ou quatro vezes; tanto bastou para que ele interrompesse a leitura e \n",
      "metesse os versos no bolso. \n",
      "\n",
      "— Continue, disse eu acordando. \n",
      "\n",
      "— Ja acabei, murmurou ele. \n",
      "\n",
      "— Sao muito bonitos. \n",
      "\n",
      "Vi-lhe fazer um gesto para tira-los outra vez do bolso, mas nao passou do gesto; \n",
      "estava amuado. No dia seguinte entrou a dizer de mim nomes feios, e acabou \n",
      "alcunhando-me Dom Casmurro. Os vizinhos, que nao gostam dos meus habitos \n",
      "reclusos e calados, deram curso a alcunha, que afinal pegou. Nem por isso me \n",
      "zanguei. Contei a anedota aos amigos da cidade, e eles, por graga, chamam-me \n",
      "assim, alguns em bilhetes: \"Dom Casmurro, domingo vou jantar com voce”.— \n",
      "\"Vou para Petropolis, Dom Casmurro; a casa e a mesma da Renania; ve se deixas \n",
      "essa caverna do Engenho Novo, e vai la passar uns quinze dias comigo\".— \"Meu \n",
      "caro Dom Casmurro, nao cuide que o dispenso do teatro amanha; venha e dormira \n",
      "aqui na cidade; dou-lhe camarote, dou-lhe cha, dou-lhe cama; so nao Ihe dou \n",
      "moga”. \n",
      "\n",
      "Nao consultes dicionarios. Casmurro nao esta aqui no sentido que eles Ihe dao, \n",
      "mas no que Ihe pos o vulgo de homem calado e metido consigo. Dom veio por \n",
      "ironia, para atribuir-me fumos de fidalgo. Tudo por estar cochilando! Tambem nao \n",
      "achei melhor titulo para a minha narracao; se nao tiver outro daqui ate ao fim do \n",
      "livro, vai este mesmo. O meu poeta do trem ficara sabendo que nao Ihe guardo \n",
      "rancor. E com pequeno esforco, sendo o titulo seu, podera cuidar que a obra e \n",
      "sua. Ha livros que apenas terao isso dos seus autores; alguns nem tanto. \n"
     ]
    }
   ],
   "source": [
    "arquivo = open('arquivos/dom_casmurro.txt', 'r', encoding='utf-8')\n",
    "for linha in arquivo:\n",
    "    print(linha, end='')\n",
    "arquivo.close()"
   ]
  },
  {
   "cell_type": "code",
   "execution_count": 7,
   "id": "aa46a271",
   "metadata": {},
   "outputs": [
    {
     "name": "stdout",
     "output_type": "stream",
     "text": [
      "Dom Casmurro \n",
      "\n",
      "Texto de referenda: \n",
      "Obras Completas de Machado de Assis, vol. I, \n",
      "Nova Aguilar, Rio de Janeiro, 1994. \n",
      "Publicado originalmente pela Editora Gamier, Rio de Janeiro, 1899. \n",
      "\n",
      "\n",
      "CAPITULO PRIMEIRO \n",
      "DO TITULO \n",
      "\n",
      "Uma noite destas, vindo da cidade para o Engenho Novo, encontrei no trem da \n",
      "Central um rapaz aqui do bairro, que eu conhego de vista e de chapeu. \n",
      "Cumprimentou-me, sentou-se ao pe de mim, falou da Lua e dos ministros, e \n",
      "acabou recitando-me versos. A viagem era curta, e os versos pode ser que nao \n",
      "fossem inteiramente maus. Sucedeu, porem, que, como eu estava cansado, fechei \n",
      "os olhos tres ou quatro vezes; tanto bastou para que ele interrompesse a leitura e \n",
      "metesse os versos no bolso. \n",
      "\n",
      "— Continue, disse eu acordando. \n",
      "\n",
      "— Ja acabei, murmurou ele. \n",
      "\n",
      "— Sao muito bonitos. \n",
      "\n",
      "Vi-lhe fazer um gesto para tira-los outra vez do bolso, mas nao passou do gesto; \n",
      "estava amuado. No dia seguinte entrou a dizer de mim nomes feios, e acabou \n",
      "alcunhando-me Dom Casmurro. Os vizinhos, que nao gostam dos meus habitos \n",
      "reclusos e calados, deram curso a alcunha, que afinal pegou. Nem por isso me \n",
      "zanguei. Contei a anedota aos amigos da cidade, e eles, por graga, chamam-me \n",
      "assim, alguns em bilhetes: \"Dom Casmurro, domingo vou jantar com voce”.— \n",
      "\"Vou para Petropolis, Dom Casmurro; a casa e a mesma da Renania; ve se deixas \n",
      "essa caverna do Engenho Novo, e vai la passar uns quinze dias comigo\".— \"Meu \n",
      "caro Dom Casmurro, nao cuide que o dispenso do teatro amanha; venha e dormira \n",
      "aqui na cidade; dou-lhe camarote, dou-lhe cha, dou-lhe cama; so nao Ihe dou \n",
      "moga”. \n",
      "\n",
      "Nao consultes dicionarios. Casmurro nao esta aqui no sentido que eles Ihe dao, \n",
      "mas no que Ihe pos o vulgo de homem calado e metido consigo. Dom veio por \n",
      "ironia, para atribuir-me fumos de fidalgo. Tudo por estar cochilando! Tambem nao \n",
      "achei melhor titulo para a minha narracao; se nao tiver outro daqui ate ao fim do \n",
      "livro, vai este mesmo. O meu poeta do trem ficara sabendo que nao Ihe guardo \n",
      "rancor. E com pequeno esforco, sendo o titulo seu, podera cuidar que a obra e \n",
      "sua. Ha livros que apenas terao isso dos seus autores; alguns nem tanto. \n",
      "\n"
     ]
    }
   ],
   "source": [
    "with open('arquivos/dom_casmurro.txt', 'r', encoding='utf-8') as arquivo: #Apre e depois da execução abaixo fecha o arquivo\n",
    "    texto = arquivo.read()\n",
    "    print(texto)\n"
   ]
  },
  {
   "cell_type": "code",
   "execution_count": 8,
   "id": "5133b7b3",
   "metadata": {},
   "outputs": [
    {
     "ename": "ValueError",
     "evalue": "I/O operation on closed file.",
     "output_type": "error",
     "traceback": [
      "\u001b[1;31m---------------------------------------------------------------------------\u001b[0m",
      "\u001b[1;31mValueError\u001b[0m                                Traceback (most recent call last)",
      "Cell \u001b[1;32mIn [8], line 1\u001b[0m\n\u001b[1;32m----> 1\u001b[0m \u001b[43marquivo\u001b[49m\u001b[38;5;241;43m.\u001b[39;49m\u001b[43mread\u001b[49m\u001b[43m(\u001b[49m\u001b[43m)\u001b[49m\n",
      "\u001b[1;31mValueError\u001b[0m: I/O operation on closed file."
     ]
    }
   ],
   "source": [
    "arquivo.read() #Arquivo fechado"
   ]
  },
  {
   "cell_type": "code",
   "execution_count": 10,
   "id": "5ef8e6ec",
   "metadata": {},
   "outputs": [],
   "source": [
    "with open('arquivo_teste.txt', 'w',  encoding='utf-8') as arquivo: #criar um arquivo para edição\n",
    "    arquivo.write('Essa é primeira linha que eu escrevi usando Python!\\n')\n",
    "    arquivo.write('Essa é a segunda linha que eu escrevi usando Python!\\n')"
   ]
  },
  {
   "cell_type": "code",
   "execution_count": 11,
   "id": "ab2850c2",
   "metadata": {},
   "outputs": [
    {
     "name": "stdout",
     "output_type": "stream",
     "text": [
      "Essa é primeira linha que eu escrevi usando Python!\n",
      "Essa é a segunda linha que eu escrevi usando Python!\n"
     ]
    }
   ],
   "source": [
    "with open('arquivo_teste.txt', 'r', encoding='utf-8') as arquivo:\n",
    "    print(arquivo.read(), end='')\n"
   ]
  },
  {
   "cell_type": "code",
   "execution_count": 14,
   "id": "4ca36e7d",
   "metadata": {},
   "outputs": [],
   "source": [
    "with open('arquivo_teste.txt', 'a',  encoding='utf-8') as arquivo: #Adicionar escrita a um texto\n",
    "    arquivo.write('Essa é a terceira linha que eu escrevi usando Python!\\n')\n"
   ]
  },
  {
   "cell_type": "code",
   "execution_count": 16,
   "id": "78de0a07",
   "metadata": {},
   "outputs": [
    {
     "name": "stdout",
     "output_type": "stream",
     "text": [
      "Essa é primeira linha que eu escrevi usando Python!\n",
      "Essa é a segunda linha que eu escrevi usando Python!\n",
      "Essa é a terceira linha que eu escrevi usando Python!\n"
     ]
    }
   ],
   "source": [
    "with open('arquivo_teste.txt', 'r', encoding='utf-8') as arquivo:\n",
    "    print(arquivo.read(), end='')"
   ]
  },
  {
   "cell_type": "markdown",
   "id": "ff5916e4",
   "metadata": {},
   "source": [
    "# Aula 02 - Arquivos CSV"
   ]
  },
  {
   "cell_type": "code",
   "execution_count": 1,
   "id": "a574c766",
   "metadata": {},
   "outputs": [],
   "source": [
    "import csv"
   ]
  },
  {
   "cell_type": "code",
   "execution_count": 5,
   "id": "91b52858",
   "metadata": {},
   "outputs": [
    {
     "name": "stdout",
     "output_type": "stream",
     "text": [
      "['2020-03-06', 'Brasil', '5', '0', '8', '0']\n",
      "['2020-03-07', 'Brasil', '5', '0', '13', '0']\n",
      "['2020-03-09', 'Brasil', '12', '0', '25', '0']\n",
      "['2020-03-11', 'Brasil', '9', '0', '34', '0']\n",
      "['2020-03-12', 'Brasil', '18', '0', '52', '0']\n",
      "['2020-03-13', 'Brasil', '25', '0', '77', '0']\n",
      "['2020-03-14', 'Brasil', '21', '0', '98', '0']\n",
      "['2020-03-15', 'Brasil', '23', '0', '121', '0']\n",
      "['2020-03-16', 'Brasil', '79', '0', '200', '0']\n",
      "['2020-03-17', 'Brasil', '34', '0', '234', '0']\n",
      "['2020-03-18', 'Brasil', '57', '1', '291', '1']\n",
      "['2020-03-19', 'Brasil', '137', '3', '428', '4']\n",
      "['2020-03-20', 'Brasil', '193', '2', '621', '6']\n",
      "['2020-03-21', 'Brasil', '283', '5', '904', '11']\n",
      "['2020-03-22', 'Brasil', '224', '7', '1128', '18']\n",
      "['2020-03-23', 'Brasil', '418', '7', '1546', '25']\n",
      "['2020-03-24', 'Brasil', '345', '9', '1891', '34']\n",
      "['2020-03-25', 'Brasil', '310', '12', '2201', '46']\n",
      "['2020-03-26', 'Brasil', '232', '11', '2433', '57']\n",
      "['2020-03-27', 'Brasil', '482', '20', '2915', '77']\n",
      "['2020-03-28', 'Brasil', '502', '15', '3417', '92']\n",
      "['2020-03-29', 'Brasil', '487', '22', '3904', '114']\n",
      "['2020-03-30', 'Brasil', '352', '22', '4256', '136']\n",
      "['2020-03-31', 'Brasil', '323', '23', '4579', '159']\n",
      "['2020-04-01', 'Brasil', '1138', '42', '5717', '201']\n",
      "['2020-04-02', 'Brasil', '1119', '40', '6836', '241']\n",
      "['2020-04-03', 'Brasil', '1074', '58', '7910', '299']\n",
      "['2020-04-04', 'Brasil', '1146', '60', '9056', '359']\n",
      "['2020-04-05', 'Brasil', '1222', '73', '10278', '432']\n",
      "['2020-04-06', 'Brasil', '852', '54', '11130', '486']\n",
      "['2020-04-07', 'Brasil', '926', '67', '12056', '553']\n",
      "['2020-04-08', 'Brasil', '1661', '114', '13717', '667']\n",
      "['2020-04-09', 'Brasil', '2210', '133', '15927', '800']\n",
      "['2020-04-10', 'Brasil', '1930', '141', '17857', '941']\n",
      "['2020-04-11', 'Brasil', '1781', '115', '19638', '1056']\n",
      "['2020-04-12', 'Brasil', '1089', '68', '20727', '1124']\n",
      "['2020-04-13', 'Brasil', '1442', '99', '22169', '1223']\n",
      "['2020-04-14', 'Brasil', '1261', '105', '23430', '1328']\n",
      "['2020-04-15', 'Brasil', '1832', '204', '25262', '1532']\n",
      "['2020-04-16', 'Brasil', '3058', '204', '28320', '1736']\n",
      "['2020-04-17', 'Brasil', '2105', '188', '30425', '1924']\n",
      "['2020-04-18', 'Brasil', '3257', '217', '33682', '2141']\n",
      "['2020-04-19', 'Brasil', '2917', '206', '36599', '2347']\n",
      "['2020-04-20', 'Brasil', '2055', '115', '38654', '2462']\n",
      "['2020-04-21', 'Brasil', '1927', '113', '40581', '2575']\n",
      "['2020-04-22', 'Brasil', '2498', '166', '43079', '2741']\n",
      "['2020-04-23', 'Brasil', '2678', '165', '45757', '2906']\n",
      "['2020-04-24', 'Brasil', '3735', '407', '49492', '3313']\n",
      "['2020-04-25', 'Brasil', '3503', '357', '52995', '3670']\n",
      "['2020-04-26', 'Brasil', '5514', '346', '58509', '4016']\n",
      "['2020-04-27', 'Brasil', '3379', '189', '61888', '4205']\n",
      "['2020-04-28', 'Brasil', '4613', '338', '66501', '4543']\n",
      "['2020-04-29', 'Brasil', '5385', '474', '71886', '5017']\n",
      "['2020-04-30', 'Brasil', '6276', '449', '78162', '5466']\n",
      "['2020-05-01', 'Brasil', '7218', '435', '85380', '5901']\n",
      "['2020-05-02', 'Brasil', '6209', '428', '91589', '6329']\n",
      "['2020-05-03', 'Brasil', '4970', '421', '96559', '6750']\n",
      "['2020-05-04', 'Brasil', '4588', '275', '101147', '7025']\n",
      "['2020-05-05', 'Brasil', '6633', '296', '107780', '7321']\n",
      "['2020-05-06', 'Brasil', '6935', '600', '114715', '7921']\n",
      "['2020-05-07', 'Brasil', '10503', '615', '125218', '8536']\n",
      "['2020-05-08', 'Brasil', '9888', '610', '135106', '9146']\n",
      "['2020-05-09', 'Brasil', '10222', '751', '145328', '9897']\n",
      "['2020-05-10', 'Brasil', '10611', '730', '155939', '10627']\n",
      "['2020-05-11', 'Brasil', '6760', '496', '162699', '11123']\n",
      "['2020-05-12', 'Brasil', '5632', '396', '168331', '11519']\n",
      "['2020-05-13', 'Brasil', '9258', '881', '177589', '12400']\n",
      "['2020-05-14', 'Brasil', '11385', '749', '188974', '13149']\n",
      "['2020-05-15', 'Brasil', '13944', '844', '202918', '13993']\n",
      "['2020-05-16', 'Brasil', '15305', '824', '218223', '14817']\n",
      "['2020-05-17', 'Brasil', '14919', '816', '233142', '15633']\n",
      "['2020-05-18', 'Brasil', '7938', '485', '241080', '16118']\n",
      "['2020-05-19', 'Brasil', '13140', '674', '254220', '16792']\n",
      "['2020-05-20', 'Brasil', '17408', '1179', '271628', '17971']\n",
      "['2020-05-21', 'Brasil', '19951', '888', '291579', '18859']\n",
      "['2020-05-22', 'Brasil', '18508', '1188', '310087', '20047']\n",
      "['2020-05-23', 'Brasil', '20803', '1001', '330890', '21048']\n",
      "['2020-05-24', 'Brasil', '16508', '965', '347398', '22013']\n",
      "['2020-05-25', 'Brasil', '15813', '653', '363211', '22666']\n",
      "['2020-05-26', 'Brasil', '11687', '807', '374898', '23473']\n",
      "['2020-05-27', 'Brasil', '16324', '1039', '391222', '24512']\n",
      "['2020-05-28', 'Brasil', '20599', '1086', '411821', '25598']\n",
      "['2020-05-29', 'Brasil', '26417', '1156', '438238', '26754']\n",
      "['2020-05-30', 'Brasil', '26928', '1124', '465166', '27878']\n",
      "['2020-05-31', 'Brasil', '33274', '956', '498440', '28834']\n",
      "['2020-06-01', 'Brasil', '16409', '480', '514849', '29314']\n",
      "['2020-06-02', 'Brasil', '11598', '623', '526447', '29937']\n",
      "['2020-06-03', 'Brasil', '28936', '1262', '555383', '31199']\n",
      "['2020-06-04', 'Brasil', '28633', '1349', '584016', '32548']\n",
      "['2020-06-05', 'Brasil', '30916', '1473', '614932', '34021']\n",
      "['2020-06-06', 'Brasil', '30830', '1005', '645762', '35026']\n",
      "['2020-06-07', 'Brasil', '27075', '904', '672837', '35930']\n",
      "['2020-06-08', 'Brasil', '18921', '525', '691758', '36455']\n",
      "['2020-06-09', 'Brasil', '15654', '679', '707412', '37134']\n",
      "['2020-06-10', 'Brasil', '32091', '1272', '739503', '38406']\n",
      "['2020-06-11', 'Brasil', '32913', '1274', '772416', '39680']\n",
      "['2020-06-12', 'Brasil', '30412', '1239', '802828', '40919']\n",
      "['2020-06-13', 'Brasil', '25982', '909', '828810', '41828']\n",
      "['2020-06-14', 'Brasil', '21704', '892', '850514', '42720']\n",
      "['2020-06-15', 'Brasil', '17110', '612', '867624', '43332']\n",
      "['2020-06-16', 'Brasil', '20647', '627', '888271', '43959']\n"
     ]
    }
   ],
   "source": [
    "with open('brasil_covid.csv', 'r', encoding='utf-8') as arquivo_csv:\n",
    "    leitor = csv.reader(arquivo_csv)\n",
    "    header = next(leitor) #pula o cabeçalho \n",
    "    for linha in leitor:\n",
    "        if float(linha[2]) >1:\n",
    "            print(linha)"
   ]
  },
  {
   "cell_type": "code",
   "execution_count": 9,
   "id": "6d732596",
   "metadata": {},
   "outputs": [
    {
     "name": "stdout",
     "output_type": "stream",
     "text": [
      "['data', 'pais', 'novos_casos', 'novos_obitos', 'total_casos', 'total_obitos']\n",
      "['2019-12-31', 'Brasil', '0', '0', '0', '0']\n",
      "['2020-01-01', 'Brasil', '0', '0', '0', '0']\n",
      "['2020-01-02', 'Brasil', '0', '0', '0', '0']\n",
      "['2020-01-03', 'Brasil', '0', '0', '0', '0']\n",
      "['2020-01-04', 'Brasil', '0', '0', '0', '0']\n",
      "['2020-01-05', 'Brasil', '0', '0', '0', '0']\n",
      "['2020-01-06', 'Brasil', '0', '0', '0', '0']\n",
      "['2020-01-07', 'Brasil', '0', '0', '0', '0']\n",
      "['2020-01-08', 'Brasil', '0', '0', '0', '0']\n",
      "['2020-01-09', 'Brasil', '0', '0', '0', '0']\n",
      "['2020-01-10', 'Brasil', '0', '0', '0', '0']\n",
      "['2020-01-11', 'Brasil', '0', '0', '0', '0']\n",
      "['2020-01-12', 'Brasil', '0', '0', '0', '0']\n",
      "['2020-01-13', 'Brasil', '0', '0', '0', '0']\n",
      "['2020-01-14', 'Brasil', '0', '0', '0', '0']\n",
      "['2020-01-15', 'Brasil', '0', '0', '0', '0']\n",
      "['2020-01-16', 'Brasil', '0', '0', '0', '0']\n",
      "['2020-01-17', 'Brasil', '0', '0', '0', '0']\n",
      "['2020-01-18', 'Brasil', '0', '0', '0', '0']\n",
      "['2020-01-19', 'Brasil', '0', '0', '0', '0']\n",
      "['2020-01-20', 'Brasil', '0', '0', '0', '0']\n",
      "['2020-01-21', 'Brasil', '0', '0', '0', '0']\n",
      "['2020-01-22', 'Brasil', '0', '0', '0', '0']\n",
      "['2020-01-23', 'Brasil', '0', '0', '0', '0']\n",
      "['2020-01-24', 'Brasil', '0', '0', '0', '0']\n",
      "['2020-01-25', 'Brasil', '0', '0', '0', '0']\n",
      "['2020-01-26', 'Brasil', '0', '0', '0', '0']\n",
      "['2020-01-27', 'Brasil', '0', '0', '0', '0']\n",
      "['2020-01-28', 'Brasil', '0', '0', '0', '0']\n",
      "['2020-01-29', 'Brasil', '0', '0', '0', '0']\n",
      "['2020-01-30', 'Brasil', '0', '0', '0', '0']\n",
      "['2020-01-31', 'Brasil', '0', '0', '0', '0']\n",
      "['2020-02-01', 'Brasil', '0', '0', '0', '0']\n",
      "['2020-02-02', 'Brasil', '0', '0', '0', '0']\n",
      "['2020-02-03', 'Brasil', '0', '0', '0', '0']\n",
      "['2020-02-04', 'Brasil', '0', '0', '0', '0']\n",
      "['2020-02-05', 'Brasil', '0', '0', '0', '0']\n",
      "['2020-02-06', 'Brasil', '0', '0', '0', '0']\n",
      "['2020-02-07', 'Brasil', '0', '0', '0', '0']\n",
      "['2020-02-08', 'Brasil', '0', '0', '0', '0']\n",
      "['2020-02-09', 'Brasil', '0', '0', '0', '0']\n",
      "['2020-02-10', 'Brasil', '0', '0', '0', '0']\n",
      "['2020-02-11', 'Brasil', '0', '0', '0', '0']\n",
      "['2020-02-12', 'Brasil', '0', '0', '0', '0']\n",
      "['2020-02-13', 'Brasil', '0', '0', '0', '0']\n",
      "['2020-02-14', 'Brasil', '0', '0', '0', '0']\n",
      "['2020-02-15', 'Brasil', '0', '0', '0', '0']\n",
      "['2020-02-16', 'Brasil', '0', '0', '0', '0']\n",
      "['2020-02-17', 'Brasil', '0', '0', '0', '0']\n",
      "['2020-02-18', 'Brasil', '0', '0', '0', '0']\n",
      "['2020-02-19', 'Brasil', '0', '0', '0', '0']\n",
      "['2020-02-20', 'Brasil', '0', '0', '0', '0']\n",
      "['2020-02-21', 'Brasil', '0', '0', '0', '0']\n",
      "['2020-02-22', 'Brasil', '0', '0', '0', '0']\n",
      "['2020-02-23', 'Brasil', '0', '0', '0', '0']\n",
      "['2020-02-24', 'Brasil', '0', '0', '0', '0']\n",
      "['2020-02-25', 'Brasil', '0', '0', '0', '0']\n",
      "['2020-02-26', 'Brasil', '1', '0', '1', '0']\n",
      "['2020-02-27', 'Brasil', '0', '0', '1', '0']\n",
      "['2020-02-28', 'Brasil', '0', '0', '1', '0']\n",
      "['2020-02-29', 'Brasil', '0', '0', '1', '0']\n",
      "['2020-03-01', 'Brasil', '1', '0', '2', '0']\n",
      "['2020-03-02', 'Brasil', '0', '0', '2', '0']\n",
      "['2020-03-03', 'Brasil', '0', '0', '2', '0']\n",
      "['2020-03-04', 'Brasil', '0', '0', '2', '0']\n",
      "['2020-03-05', 'Brasil', '1', '0', '3', '0']\n",
      "['2020-03-06', 'Brasil', '5', '0', '8', '0']\n",
      "['2020-03-07', 'Brasil', '5', '0', '13', '0']\n",
      "['2020-03-08', 'Brasil', '0', '0', '13', '0']\n",
      "['2020-03-09', 'Brasil', '12', '0', '25', '0']\n",
      "['2020-03-10', 'Brasil', '0', '0', '25', '0']\n",
      "['2020-03-11', 'Brasil', '9', '0', '34', '0']\n",
      "['2020-03-12', 'Brasil', '18', '0', '52', '0']\n",
      "['2020-03-13', 'Brasil', '25', '0', '77', '0']\n",
      "['2020-03-14', 'Brasil', '21', '0', '98', '0']\n",
      "['2020-03-15', 'Brasil', '23', '0', '121', '0']\n",
      "['2020-03-16', 'Brasil', '79', '0', '200', '0']\n",
      "['2020-03-17', 'Brasil', '34', '0', '234', '0']\n",
      "['2020-03-18', 'Brasil', '57', '1', '291', '1']\n",
      "['2020-03-19', 'Brasil', '137', '3', '428', '4']\n",
      "['2020-03-20', 'Brasil', '193', '2', '621', '6']\n",
      "['2020-03-21', 'Brasil', '283', '5', '904', '11']\n",
      "['2020-03-22', 'Brasil', '224', '7', '1128', '18']\n",
      "['2020-03-23', 'Brasil', '418', '7', '1546', '25']\n",
      "['2020-03-24', 'Brasil', '345', '9', '1891', '34']\n",
      "['2020-03-25', 'Brasil', '310', '12', '2201', '46']\n",
      "['2020-03-26', 'Brasil', '232', '11', '2433', '57']\n",
      "['2020-03-27', 'Brasil', '482', '20', '2915', '77']\n",
      "['2020-03-28', 'Brasil', '502', '15', '3417', '92']\n",
      "['2020-03-29', 'Brasil', '487', '22', '3904', '114']\n",
      "['2020-03-30', 'Brasil', '352', '22', '4256', '136']\n",
      "['2020-03-31', 'Brasil', '323', '23', '4579', '159']\n",
      "['2020-04-01', 'Brasil', '1138', '42', '5717', '201']\n",
      "['2020-04-02', 'Brasil', '1119', '40', '6836', '241']\n",
      "['2020-04-03', 'Brasil', '1074', '58', '7910', '299']\n",
      "['2020-04-04', 'Brasil', '1146', '60', '9056', '359']\n",
      "['2020-04-05', 'Brasil', '1222', '73', '10278', '432']\n",
      "['2020-04-06', 'Brasil', '852', '54', '11130', '486']\n",
      "['2020-04-07', 'Brasil', '926', '67', '12056', '553']\n",
      "['2020-04-08', 'Brasil', '1661', '114', '13717', '667']\n",
      "['2020-04-09', 'Brasil', '2210', '133', '15927', '800']\n",
      "['2020-04-10', 'Brasil', '1930', '141', '17857', '941']\n",
      "['2020-04-11', 'Brasil', '1781', '115', '19638', '1056']\n",
      "['2020-04-12', 'Brasil', '1089', '68', '20727', '1124']\n",
      "['2020-04-13', 'Brasil', '1442', '99', '22169', '1223']\n",
      "['2020-04-14', 'Brasil', '1261', '105', '23430', '1328']\n",
      "['2020-04-15', 'Brasil', '1832', '204', '25262', '1532']\n",
      "['2020-04-16', 'Brasil', '3058', '204', '28320', '1736']\n",
      "['2020-04-17', 'Brasil', '2105', '188', '30425', '1924']\n",
      "['2020-04-18', 'Brasil', '3257', '217', '33682', '2141']\n",
      "['2020-04-19', 'Brasil', '2917', '206', '36599', '2347']\n",
      "['2020-04-20', 'Brasil', '2055', '115', '38654', '2462']\n",
      "['2020-04-21', 'Brasil', '1927', '113', '40581', '2575']\n",
      "['2020-04-22', 'Brasil', '2498', '166', '43079', '2741']\n",
      "['2020-04-23', 'Brasil', '2678', '165', '45757', '2906']\n",
      "['2020-04-24', 'Brasil', '3735', '407', '49492', '3313']\n",
      "['2020-04-25', 'Brasil', '3503', '357', '52995', '3670']\n",
      "['2020-04-26', 'Brasil', '5514', '346', '58509', '4016']\n",
      "['2020-04-27', 'Brasil', '3379', '189', '61888', '4205']\n",
      "['2020-04-28', 'Brasil', '4613', '338', '66501', '4543']\n",
      "['2020-04-29', 'Brasil', '5385', '474', '71886', '5017']\n",
      "['2020-04-30', 'Brasil', '6276', '449', '78162', '5466']\n",
      "['2020-05-01', 'Brasil', '7218', '435', '85380', '5901']\n",
      "['2020-05-02', 'Brasil', '6209', '428', '91589', '6329']\n",
      "['2020-05-03', 'Brasil', '4970', '421', '96559', '6750']\n",
      "['2020-05-04', 'Brasil', '4588', '275', '101147', '7025']\n",
      "['2020-05-05', 'Brasil', '6633', '296', '107780', '7321']\n",
      "['2020-05-06', 'Brasil', '6935', '600', '114715', '7921']\n",
      "['2020-05-07', 'Brasil', '10503', '615', '125218', '8536']\n",
      "['2020-05-08', 'Brasil', '9888', '610', '135106', '9146']\n",
      "['2020-05-09', 'Brasil', '10222', '751', '145328', '9897']\n",
      "['2020-05-10', 'Brasil', '10611', '730', '155939', '10627']\n",
      "['2020-05-11', 'Brasil', '6760', '496', '162699', '11123']\n",
      "['2020-05-12', 'Brasil', '5632', '396', '168331', '11519']\n",
      "['2020-05-13', 'Brasil', '9258', '881', '177589', '12400']\n",
      "['2020-05-14', 'Brasil', '11385', '749', '188974', '13149']\n",
      "['2020-05-15', 'Brasil', '13944', '844', '202918', '13993']\n",
      "['2020-05-16', 'Brasil', '15305', '824', '218223', '14817']\n",
      "['2020-05-17', 'Brasil', '14919', '816', '233142', '15633']\n",
      "['2020-05-18', 'Brasil', '7938', '485', '241080', '16118']\n",
      "['2020-05-19', 'Brasil', '13140', '674', '254220', '16792']\n",
      "['2020-05-20', 'Brasil', '17408', '1179', '271628', '17971']\n",
      "['2020-05-21', 'Brasil', '19951', '888', '291579', '18859']\n",
      "['2020-05-22', 'Brasil', '18508', '1188', '310087', '20047']\n",
      "['2020-05-23', 'Brasil', '20803', '1001', '330890', '21048']\n",
      "['2020-05-24', 'Brasil', '16508', '965', '347398', '22013']\n",
      "['2020-05-25', 'Brasil', '15813', '653', '363211', '22666']\n",
      "['2020-05-26', 'Brasil', '11687', '807', '374898', '23473']\n",
      "['2020-05-27', 'Brasil', '16324', '1039', '391222', '24512']\n",
      "['2020-05-28', 'Brasil', '20599', '1086', '411821', '25598']\n",
      "['2020-05-29', 'Brasil', '26417', '1156', '438238', '26754']\n",
      "['2020-05-30', 'Brasil', '26928', '1124', '465166', '27878']\n",
      "['2020-05-31', 'Brasil', '33274', '956', '498440', '28834']\n",
      "['2020-06-01', 'Brasil', '16409', '480', '514849', '29314']\n",
      "['2020-06-02', 'Brasil', '11598', '623', '526447', '29937']\n",
      "['2020-06-03', 'Brasil', '28936', '1262', '555383', '31199']\n",
      "['2020-06-04', 'Brasil', '28633', '1349', '584016', '32548']\n",
      "['2020-06-05', 'Brasil', '30916', '1473', '614932', '34021']\n",
      "['2020-06-06', 'Brasil', '30830', '1005', '645762', '35026']\n",
      "['2020-06-07', 'Brasil', '27075', '904', '672837', '35930']\n",
      "['2020-06-08', 'Brasil', '18921', '525', '691758', '36455']\n",
      "['2020-06-09', 'Brasil', '15654', '679', '707412', '37134']\n",
      "['2020-06-10', 'Brasil', '32091', '1272', '739503', '38406']\n",
      "['2020-06-11', 'Brasil', '32913', '1274', '772416', '39680']\n",
      "['2020-06-12', 'Brasil', '30412', '1239', '802828', '40919']\n",
      "['2020-06-13', 'Brasil', '25982', '909', '828810', '41828']\n",
      "['2020-06-14', 'Brasil', '21704', '892', '850514', '42720']\n",
      "['2020-06-15', 'Brasil', '17110', '612', '867624', '43332']\n",
      "['2020-06-16', 'Brasil', '20647', '627', '888271', '43959']\n"
     ]
    }
   ],
   "source": [
    "with open('brasil_covid.csv', 'r') as csv_file: #Exemplo sem utilizar a biblioteca csv\n",
    "    linhas = csv_file.read()\n",
    "    linhas = linhas.split('\\n') #Separar todas as linhas\n",
    "    for linha in linhas:\n",
    "        linha = linha.split(',') #Separar quando encontrar ,\n",
    "        print(linha)"
   ]
  },
  {
   "cell_type": "code",
   "execution_count": 12,
   "id": "e33c192f",
   "metadata": {},
   "outputs": [],
   "source": [
    "with open('users.csv', 'w', encoding='utf-8', newline='') as arquivo_users: #criar arquivo csv e evitar de criar linhas em branco\n",
    "    escritor = csv.writer(arquivo_users)\n",
    "    escritor.writerow(['nome', 'sobrenome', 'email', 'genero'])\n",
    "    escritor.writerow(['Pietro', 'Ribeiro', 'pietro@email.com', 'Masculino'])"
   ]
  },
  {
   "cell_type": "code",
   "execution_count": 19,
   "id": "cfd80b1f",
   "metadata": {},
   "outputs": [
    {
     "name": "stdout",
     "output_type": "stream",
     "text": [
      "O que deseja fazer?\n",
      "1 - Cadastrar\n",
      "0 - Sair\n",
      ">>1\n",
      "Qual seu nome? Thiago\n",
      "Qual seu sobrenome? Souza\n",
      "O que deseja fazer?\n",
      "1 - Cadastrar\n",
      "0 - Sair\n",
      ">>1\n",
      "Qual seu nome? Jose\n",
      "Qual seu sobrenome? Filho\n",
      "O que deseja fazer?\n",
      "1 - Cadastrar\n",
      "0 - Sair\n",
      ">>0\n",
      "[['Thiago', 'Souza'], ['Jose', 'Filho']]\n",
      "['nome', 'sobrenome']\n",
      "['Thiago', 'Souza']\n",
      "['Jose', 'Filho']\n"
     ]
    }
   ],
   "source": [
    "header = ['nome', 'sobrenome']\n",
    "dados = []\n",
    "opt = input('O que deseja fazer?\\n1 - Cadastrar\\n0 - Sair\\n>>')\n",
    "while opt != '0':\n",
    "    nome = input('Qual seu nome? ')\n",
    "    sobrenome = input('Qual seu sobrenome? ')\n",
    "    dados.append([nome, sobrenome])\n",
    "    opt = input('O que deseja fazer?\\n1 - Cadastrar\\n0 - Sair\\n>>')\n",
    "    \n",
    "print(dados)\n",
    "\n",
    "with open('users.csv', 'w', newline='') as arquivo_csv:\n",
    "    writer = csv.writer(arquivo_csv)\n",
    "    writer.writerow(header)\n",
    "    writer.writerows(dados)\n",
    "    \n",
    "with open('users.csv', 'r') as csv_file:\n",
    "    csv_reader = csv.reader(csv_file, delimiter=',')\n",
    "    for row in csv_reader:\n",
    "        print(row)\n",
    "    "
   ]
  },
  {
   "cell_type": "markdown",
   "id": "5e8e5c9d",
   "metadata": {},
   "source": [
    "# Aula 03 - APIs"
   ]
  },
  {
   "cell_type": "code",
   "execution_count": 1,
   "id": "36891a0c",
   "metadata": {},
   "outputs": [
    {
     "name": "stdout",
     "output_type": "stream",
     "text": [
      "Defaulting to user installation because normal site-packages is not writeable\n",
      "Requirement already satisfied: requests in c:\\users\\clever\\appdata\\roaming\\python\\python39\\site-packages (2.28.1)\n",
      "Requirement already satisfied: idna<4,>=2.5 in c:\\users\\clever\\appdata\\roaming\\python\\python39\\site-packages (from requests) (3.2)\n",
      "Requirement already satisfied: certifi>=2017.4.17 in c:\\users\\clever\\appdata\\roaming\\python\\python39\\site-packages (from requests) (2022.9.14)\n",
      "Requirement already satisfied: charset-normalizer<3,>=2 in c:\\users\\clever\\appdata\\roaming\\python\\python39\\site-packages (from requests) (2.0.6)\n",
      "Requirement already satisfied: urllib3<1.27,>=1.21.1 in c:\\users\\clever\\appdata\\roaming\\python\\python39\\site-packages (from requests) (1.26.7)\n"
     ]
    }
   ],
   "source": [
    "!pip install requests"
   ]
  },
  {
   "cell_type": "code",
   "execution_count": 2,
   "id": "c1d5271c",
   "metadata": {},
   "outputs": [],
   "source": [
    "import requests"
   ]
  },
  {
   "cell_type": "code",
   "execution_count": 4,
   "id": "794ffb66",
   "metadata": {},
   "outputs": [
    {
     "name": "stdout",
     "output_type": "stream",
     "text": [
      "200\n"
     ]
    }
   ],
   "source": [
    "url = 'https://api.exchangerate-api.com/v6/latest'\n",
    "\n",
    "req = requests.get(url)#verifica se os dados estão correto, no print deve aparecer 200\n",
    "\n",
    "print(req.status_code) #Código de status ok = 200"
   ]
  },
  {
   "cell_type": "code",
   "execution_count": 5,
   "id": "d600eb71",
   "metadata": {},
   "outputs": [
    {
     "name": "stdout",
     "output_type": "stream",
     "text": [
      "{'result': 'success', 'provider': 'https://www.exchangerate-api.com', 'documentation': 'https://www.exchangerate-api.com/docs/free', 'terms_of_use': 'https://www.exchangerate-api.com/terms', 'time_last_update_unix': 1663286551, 'time_last_update_utc': 'Fri, 16 Sep 2022 00:02:31 +0000', 'time_next_update_unix': 1663374141, 'time_next_update_utc': 'Sat, 17 Sep 2022 00:22:21 +0000', 'time_eol_unix': 0, 'base_code': 'USD', 'rates': {'USD': 1, 'AED': 3.6725, 'AFN': 88.014182, 'ALL': 116.93284, 'AMD': 410.339898, 'ANG': 1.79, 'AOA': 427.976359, 'ARS': 142.291667, 'AUD': 1.489533, 'AWG': 1.79, 'AZN': 1.69437, 'BAM': 1.957912, 'BBD': 2, 'BDT': 103.145679, 'BGN': 1.957845, 'BHD': 0.376, 'BIF': 2038.362765, 'BMD': 1, 'BND': 1.408481, 'BOB': 6.894108, 'BRL': 5.191558, 'BSD': 1, 'BTN': 79.630388, 'BWP': 13.06319, 'BYN': 2.708757, 'BZD': 2, 'CAD': 1.32072, 'CDF': 2020.588347, 'CHF': 0.960708, 'CLP': 920.351785, 'CNY': 6.98948, 'COP': 4387.73099, 'CRC': 636.372479, 'CUP': 24, 'CVE': 110.38238, 'CZK': 24.551336, 'DJF': 177.721, 'DKK': 7.468322, 'DOP': 53.294578, 'DZD': 140.70984, 'EGP': 19.341498, 'ERN': 15, 'ETB': 52.630185, 'EUR': 1.0011, 'FJD': 2.234849, 'FKP': 0.87147, 'FOK': 7.468322, 'GBP': 0.871521, 'GEL': 2.824352, 'GGP': 0.87147, 'GHS': 10.21619, 'GIP': 0.87147, 'GMD': 55.413062, 'GNF': 8596.128878, 'GTQ': 7.770655, 'GYD': 207.832722, 'HKD': 7.850054, 'HNL': 24.777652, 'HRK': 7.542521, 'HTG': 117.435811, 'HUF': 408.135919, 'IDR': 14869.04911, 'ILS': 3.446276, 'IMP': 0.87147, 'INR': 79.632122, 'IQD': 1449.949449, 'IRR': 41891.146366, 'ISK': 139.144384, 'JEP': 0.87147, 'JMD': 152.191829, 'JOD': 0.709, 'JPY': 143.29763, 'KES': 120.59007, 'KGS': 81.813771, 'KHR': 4081.292493, 'KID': 1.489434, 'KMF': 492.491462, 'KRW': 1395.811738, 'KWD': 0.29963, 'KYD': 0.833333, 'KZT': 474.798825, 'LAK': 17510.425317, 'LBP': 1507.5, 'LKR': 358.872108, 'LRD': 153.318267, 'LSL': 17.544803, 'LYD': 4.891086, 'MAD': 10.751869, 'MDL': 19.327801, 'MGA': 4129.266673, 'MKD': 61.44338, 'MMK': 2610.023073, 'MNT': 3219.126452, 'MOP': 8.085515, 'MRU': 37.547891, 'MUR': 44.528399, 'MVR': 15.40383, 'MWK': 1029.703067, 'MXN': 20.067561, 'MYR': 4.521303, 'MZN': 64.08391, 'NAD': 17.544803, 'NGN': 425.142393, 'NIO': 36.112662, 'NOK': 10.15862, 'NPR': 127.408621, 'NZD': 1.674428, 'OMR': 0.384497, 'PAB': 1, 'PEN': 3.864279, 'PGK': 3.509455, 'PHP': 57.242316, 'PKR': 233.882698, 'PLN': 4.723016, 'PYG': 6929.183445, 'QAR': 3.64, 'RON': 4.927674, 'RSD': 117.381329, 'RUB': 59.570009, 'RWF': 1056.25701, 'SAR': 3.75, 'SBD': 8.021584, 'SCR': 13.074796, 'SDG': 565.335382, 'SEK': 10.726168, 'SGD': 1.408514, 'SHP': 0.87147, 'SLE': 14.353169, 'SLL': 14353.169322, 'SOS': 564.731845, 'SRD': 26.835257, 'SSP': 645.502758, 'STN': 24.526081, 'SYP': 2489.780007, 'SZL': 17.544803, 'THB': 36.876097, 'TJS': 10.167952, 'TMT': 3.494509, 'TND': 3.017978, 'TOP': 2.366954, 'TRY': 18.282178, 'TTD': 6.75779, 'TVD': 1.489434, 'TWD': 31.128506, 'TZS': 2324.752009, 'UAH': 37.129307, 'UGX': 3801.867315, 'UYU': 40.656299, 'UZS': 10871.683014, 'VES': 8.0277, 'VND': 23592.539346, 'VUV': 117.15991, 'WST': 2.659129, 'XAF': 656.655282, 'XCD': 2.7, 'XDR': 0.770672, 'XOF': 656.655282, 'XPF': 119.459032, 'YER': 249.288657, 'ZAR': 17.54491, 'ZMW': 15.558753, 'ZWL': 603.524197}}\n"
     ]
    }
   ],
   "source": [
    "dados = req.json()\n",
    "\n",
    "print(dados)"
   ]
  },
  {
   "cell_type": "code",
   "execution_count": null,
   "id": "0b38c5e8",
   "metadata": {},
   "outputs": [],
   "source": [
    "valor_reais = float(input('Informe o valor em R$ a ser convertido: '))\n",
    "cotação = dados['rates']['BRL']\n",
    "print(f'R$ {valor_reais} em dólar valem US$ {(valor_reais / cotação)})"
   ]
  }
 ],
 "metadata": {
  "kernelspec": {
   "display_name": "Python 3 (ipykernel)",
   "language": "python",
   "name": "python3"
  },
  "language_info": {
   "codemirror_mode": {
    "name": "ipython",
    "version": 3
   },
   "file_extension": ".py",
   "mimetype": "text/x-python",
   "name": "python",
   "nbconvert_exporter": "python",
   "pygments_lexer": "ipython3",
   "version": "3.9.7"
  }
 },
 "nbformat": 4,
 "nbformat_minor": 5
}
