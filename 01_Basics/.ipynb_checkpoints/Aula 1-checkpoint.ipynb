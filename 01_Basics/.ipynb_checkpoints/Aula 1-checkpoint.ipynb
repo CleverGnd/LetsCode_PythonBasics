{
 "cells": [
  {
   "cell_type": "code",
   "execution_count": 1,
   "id": "803fbc73",
   "metadata": {},
   "outputs": [
    {
     "name": "stdout",
     "output_type": "stream",
     "text": [
      "Hello, world!\n"
     ]
    }
   ],
   "source": [
    "print('Hello, world!')"
   ]
  },
  {
   "cell_type": "code",
   "execution_count": 2,
   "id": "cd7f51a3",
   "metadata": {},
   "outputs": [
    {
     "name": "stdout",
     "output_type": "stream",
     "text": [
      "5\n"
     ]
    }
   ],
   "source": [
    "x = 5\n",
    "print(x)"
   ]
  },
  {
   "cell_type": "code",
   "execution_count": 3,
   "id": "2e050573",
   "metadata": {},
   "outputs": [
    {
     "name": "stdout",
     "output_type": "stream",
     "text": [
      "<class 'int'>\n"
     ]
    }
   ],
   "source": [
    "print(type(x))"
   ]
  },
  {
   "cell_type": "code",
   "execution_count": 5,
   "id": "63fd8545",
   "metadata": {},
   "outputs": [
    {
     "name": "stdout",
     "output_type": "stream",
     "text": [
      "19.99 <class 'float'>\n"
     ]
    }
   ],
   "source": [
    "preco = 19.99\n",
    "print(preco,type(preco))"
   ]
  },
  {
   "cell_type": "code",
   "execution_count": 6,
   "id": "7f255a86",
   "metadata": {},
   "outputs": [
    {
     "name": "stdout",
     "output_type": "stream",
     "text": [
      "São Paulo <class 'str'>\n"
     ]
    }
   ],
   "source": [
    "cidade = 'São Paulo'\n",
    "print(cidade,type(cidade))"
   ]
  },
  {
   "cell_type": "code",
   "execution_count": 7,
   "id": "b66c4be1",
   "metadata": {},
   "outputs": [
    {
     "name": "stdout",
     "output_type": "stream",
     "text": [
      "True <class 'bool'>\n"
     ]
    }
   ],
   "source": [
    "disponivel = True\n",
    "print(disponivel,type(disponivel))"
   ]
  },
  {
   "cell_type": "code",
   "execution_count": 8,
   "id": "9133a778",
   "metadata": {},
   "outputs": [
    {
     "name": "stdout",
     "output_type": "stream",
     "text": [
      "False <class 'bool'>\n"
     ]
    }
   ],
   "source": [
    "disponivel = False\n",
    "print(disponivel,type(disponivel))"
   ]
  },
  {
   "cell_type": "code",
   "execution_count": 9,
   "id": "9e341f33",
   "metadata": {},
   "outputs": [],
   "source": [
    "x = 50\n",
    "y = 2"
   ]
  },
  {
   "cell_type": "code",
   "execution_count": 10,
   "id": "011554a9",
   "metadata": {},
   "outputs": [
    {
     "name": "stdout",
     "output_type": "stream",
     "text": [
      "52\n",
      "48\n",
      "100\n",
      "25.0\n"
     ]
    }
   ],
   "source": [
    "print(x + y)\n",
    "print(x - y)\n",
    "print(x * y)\n",
    "print(x / y)"
   ]
  },
  {
   "cell_type": "code",
   "execution_count": 13,
   "id": "110055ce",
   "metadata": {},
   "outputs": [
    {
     "name": "stdout",
     "output_type": "stream",
     "text": [
      "2500\n",
      "25\n",
      "0\n"
     ]
    }
   ],
   "source": [
    "print(x ** y) #x elevado a y\n",
    "print(x // y) #Divisão inteira\n",
    "print(x % y) #Resto da divisão"
   ]
  },
  {
   "cell_type": "code",
   "execution_count": 14,
   "id": "f3e7e970",
   "metadata": {},
   "outputs": [
    {
     "name": "stdout",
     "output_type": "stream",
     "text": [
      "0\n"
     ]
    }
   ],
   "source": [
    "print(3 // 4)"
   ]
  },
  {
   "cell_type": "code",
   "execution_count": 15,
   "id": "f5646439",
   "metadata": {},
   "outputs": [],
   "source": [
    "tem_cafe = True\n",
    "tem_pao = False"
   ]
  },
  {
   "cell_type": "code",
   "execution_count": 16,
   "id": "85962fd7",
   "metadata": {},
   "outputs": [
    {
     "name": "stdout",
     "output_type": "stream",
     "text": [
      "False\n",
      "True\n",
      "False\n"
     ]
    }
   ],
   "source": [
    "print(not tem_cafe)\n",
    "print(tem_cafe or tem_pao)\n",
    "print(tem_cafe and tem_pao)"
   ]
  },
  {
   "cell_type": "code",
   "execution_count": 17,
   "id": "ca11cab7",
   "metadata": {},
   "outputs": [],
   "source": [
    "dolar = 5.3\n",
    "real = 1"
   ]
  },
  {
   "cell_type": "code",
   "execution_count": 18,
   "id": "775864ae",
   "metadata": {},
   "outputs": [
    {
     "name": "stdout",
     "output_type": "stream",
     "text": [
      "True\n",
      "False\n",
      "False\n",
      "True\n",
      "False\n",
      "True\n"
     ]
    }
   ],
   "source": [
    "print(dolar > real)\n",
    "print(dolar < real)\n",
    "print(dolar == real)\n",
    "print(dolar >= real)\n",
    "print(dolar <= real)\n",
    "print(dolar != real)"
   ]
  },
  {
   "cell_type": "code",
   "execution_count": 2,
   "id": "9f222c88",
   "metadata": {},
   "outputs": [
    {
     "name": "stdout",
     "output_type": "stream",
     "text": [
      "Informe sua idade: 24\n",
      "24 <class 'str'>\n"
     ]
    }
   ],
   "source": [
    "idade = input('Informe sua idade: ')\n",
    "print(idade, type(idade))\n"
   ]
  },
  {
   "cell_type": "code",
   "execution_count": 3,
   "id": "ebe8b4a8",
   "metadata": {},
   "outputs": [
    {
     "name": "stdout",
     "output_type": "stream",
     "text": [
      "24 <class 'int'>\n"
     ]
    }
   ],
   "source": [
    "idade = int(idade)\n",
    "print(idade, type(idade))"
   ]
  },
  {
   "cell_type": "code",
   "execution_count": 4,
   "id": "0c607202",
   "metadata": {},
   "outputs": [
    {
     "ename": "ValueError",
     "evalue": "invalid literal for int() with base 10: '12abc'",
     "output_type": "error",
     "traceback": [
      "\u001b[1;31m---------------------------------------------------------------------------\u001b[0m",
      "\u001b[1;31mValueError\u001b[0m                                Traceback (most recent call last)",
      "Cell \u001b[1;32mIn [4], line 1\u001b[0m\n\u001b[1;32m----> 1\u001b[0m \u001b[38;5;28;43mint\u001b[39;49m\u001b[43m(\u001b[49m\u001b[38;5;124;43m'\u001b[39;49m\u001b[38;5;124;43m12abc\u001b[39;49m\u001b[38;5;124;43m'\u001b[39;49m\u001b[43m)\u001b[49m\n",
      "\u001b[1;31mValueError\u001b[0m: invalid literal for int() with base 10: '12abc'"
     ]
    }
   ],
   "source": [
    "int('12abc')"
   ]
  },
  {
   "cell_type": "code",
   "execution_count": 5,
   "id": "951b57e2",
   "metadata": {},
   "outputs": [
    {
     "name": "stdout",
     "output_type": "stream",
     "text": [
      "123.25\n",
      "123.25\n",
      "False\n",
      "True\n",
      "False\n",
      "True\n"
     ]
    }
   ],
   "source": [
    "print(float('123.25'))\n",
    "print(str(123.25))\n",
    "print(bool(''))\n",
    "print(bool('abc'))\n",
    "print(bool(0))\n",
    "print(bool(-2))"
   ]
  },
  {
   "cell_type": "code",
   "execution_count": 7,
   "id": "705db30a",
   "metadata": {},
   "outputs": [
    {
     "name": "stdout",
     "output_type": "stream",
     "text": [
      "Digite o valor do seu salário mensal: 4500\n",
      "Digite o valor do seu gasto mensal em média: 2000\n",
      "O montante que você pode economizar ao fim do ano é de R$ 30000.0\n"
     ]
    }
   ],
   "source": [
    "salario_mensal = input('Digite o valor do seu salário mensal: ')\n",
    "salario_mensal = float(salario_mensal)\n",
    "\n",
    "gasto_mensal = input('Digite o valor do seu gasto mensal em média: ')\n",
    "gasto_mensal = float(gasto_mensal)\n",
    "\n",
    "salario_total = salario_mensal * 12\n",
    "gasto_total = gasto_mensal * 12\n",
    "\n",
    "montante_acumulado = salario_total - gasto_total\n",
    "print('O montante que você pode economizar ao fim do ano é de R$', montante_acumulado)"
   ]
  },
  {
   "cell_type": "code",
   "execution_count": 9,
   "id": "1dc9cd1d",
   "metadata": {},
   "outputs": [
    {
     "name": "stdout",
     "output_type": "stream",
     "text": [
      "Qual é o valor da corrida: 35\n",
      "Pegue o ônibus.\n"
     ]
    }
   ],
   "source": [
    "valor_passagem = 4.30\n",
    "valor_corrida = input('Qual é o valor da corrida: ')\n",
    "\n",
    "if float(valor_corrida) <= valor_passagem * 5:\n",
    "    print('Pague a corrida.')\n",
    "if float(valor_corrida) > valor_passagem * 5:\n",
    "    print('Pegue o ônibus.')"
   ]
  },
  {
   "cell_type": "code",
   "execution_count": 11,
   "id": "de198808",
   "metadata": {},
   "outputs": [
    {
     "name": "stdout",
     "output_type": "stream",
     "text": [
      "Qual é o valor da corrida: 21\n",
      "Pague a corrida.\n"
     ]
    }
   ],
   "source": [
    "valor_passagem = 4.30\n",
    "valor_corrida = input('Qual é o valor da corrida: ')\n",
    "\n",
    "if float(valor_corrida) <= valor_passagem * 5:\n",
    "    print('Pague a corrida.')\n",
    "else:\n",
    "    print('Pegue o ônibus.')"
   ]
  },
  {
   "cell_type": "code",
   "execution_count": 13,
   "id": "b782fab8",
   "metadata": {},
   "outputs": [
    {
     "name": "stdout",
     "output_type": "stream",
     "text": [
      "Qual é o valor da corrida: 35\n",
      "Pegue o ônibus.\n"
     ]
    }
   ],
   "source": [
    "valor_passagem = 4.30\n",
    "valor_corrida = input('Qual é o valor da corrida: ')\n",
    "\n",
    "if float(valor_corrida) <= valor_passagem * 5:\n",
    "    print('Pague a corrida.') \n",
    "else:\n",
    "    if float(valor_corrida) <= valor_passagem * 6:\n",
    "        print('Aguarde um momento, o valor pode abaixar.') \n",
    "    else:\n",
    "        print('Pegue o ônibus.')"
   ]
  },
  {
   "cell_type": "code",
   "execution_count": 15,
   "id": "b88d98a3",
   "metadata": {},
   "outputs": [
    {
     "name": "stdout",
     "output_type": "stream",
     "text": [
      "Qual é o valor da corrida: 36\n",
      "Pegue o ônibus.\n"
     ]
    }
   ],
   "source": [
    "valor_passagem = 4.30\n",
    "valor_corrida = input('Qual é o valor da corrida: ')\n",
    "\n",
    "if float(valor_corrida) <= valor_passagem * 5:\n",
    "    print('Pague a corrida.') \n",
    "elif float(valor_corrida) <= valor_passagem * 6:\n",
    "    print('Aguarde um momento, o valor pode abaixar.') \n",
    "else:\n",
    "    print('Pegue o ônibus.')"
   ]
  },
  {
   "cell_type": "code",
   "execution_count": null,
   "id": "23d01319",
   "metadata": {},
   "outputs": [],
   "source": []
  }
 ],
 "metadata": {
  "kernelspec": {
   "display_name": "Python 3 (ipykernel)",
   "language": "python",
   "name": "python3"
  },
  "language_info": {
   "codemirror_mode": {
    "name": "ipython",
    "version": 3
   },
   "file_extension": ".py",
   "mimetype": "text/x-python",
   "name": "python",
   "nbconvert_exporter": "python",
   "pygments_lexer": "ipython3",
   "version": "3.9.7"
  }
 },
 "nbformat": 4,
 "nbformat_minor": 5
}
